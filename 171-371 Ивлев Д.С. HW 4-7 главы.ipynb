{
 "cells": [
  {
   "cell_type": "markdown",
   "metadata": {},
   "source": [
    "# 3. Начало работы с Python\n"
   ]
  },
  {
   "cell_type": "markdown",
   "metadata": {},
   "source": [
    "## Задание 4.1\n",
    "Обработать строку nat таким образом, чтобы в имени интерфейса вместо FastEthernet было GigabitEthernet.\n",
    "\n",
    "`NAT = \"ip nat inside source list ACL interface FastEthernet0/1 overload\"`"
   ]
  },
  {
   "cell_type": "code",
   "execution_count": 1,
   "metadata": {},
   "outputs": [
    {
     "name": "stdout",
     "output_type": "stream",
     "text": [
      "ip nat inside source list ACL interface GigabitEthernet0/1 overload\n"
     ]
    }
   ],
   "source": [
    "NAT = 'ip nat inside source list ACL interface FastEthernet0/1 overload'\n",
    "newNAT = NAT.replace('Fast', 'Gigabit')\n",
    "print(newNAT)"
   ]
  },
  {
   "cell_type": "markdown",
   "metadata": {},
   "source": [
    "## Задание 4.2\n",
    "\n",
    "Преобразовать строку mac из формата XXXX:XXXX:XXXX в формат XXXX.XXXX.XXXX XXXX.XXXX.XXXX\n",
    "\n",
    "`mac = 'AAAA:BBBB:CCCC'`"
   ]
  },
  {
   "cell_type": "code",
   "execution_count": 2,
   "metadata": {},
   "outputs": [
    {
     "name": "stdout",
     "output_type": "stream",
     "text": [
      "AAAA.BBBB.CCCC\n"
     ]
    }
   ],
   "source": [
    "mac = 'AAAA:BBBB:CCCC'\n",
    "newMac = mac.replace(':', '.')\n",
    "anwr = newMac\n",
    "print(anwr)"
   ]
  },
  {
   "cell_type": "markdown",
   "metadata": {},
   "source": [
    "## Задание 4.3\n",
    "\n",
    "Получить из строки config список VLANов вида: ['1', '3', '10', '20', '30', '100']\n",
    "\n",
    "`config = 'switchport trunk allowed vlan 1,3,10,20,30,100'`"
   ]
  },
  {
   "cell_type": "code",
   "execution_count": 3,
   "metadata": {},
   "outputs": [
    {
     "name": "stdout",
     "output_type": "stream",
     "text": [
      "['1', '3', '10', '20', '30', '100']\n"
     ]
    }
   ],
   "source": [
    "config = 'switchport trunk allowed vlan 1,3,10,20,30,100'\n",
    "newConfig = config.split()\n",
    "VLAN = newConfig[-1].split(',')\n",
    "print(VLAN)"
   ]
  },
  {
   "cell_type": "markdown",
   "metadata": {},
   "source": [
    "## Задание 4.4\n",
    "\n",
    "Список vlans это список VLANов, собранных со всех устройств сети, поэтому в списке есть повторяющиеся номера VLAN.\n",
    "\n",
    "Из списка нужно получить уникальный список VLANов, отсортированный по возрастанию номеров.\n",
    "\n",
    "`vlans = [10, 20, 30, 1, 2, 100, 10, 30, 3, 4, 10]`"
   ]
  },
  {
   "cell_type": "code",
   "execution_count": 4,
   "metadata": {},
   "outputs": [
    {
     "name": "stdout",
     "output_type": "stream",
     "text": [
      "[1, 2, 3, 4, 10, 20, 30, 100]\n"
     ]
    }
   ],
   "source": [
    "vlans = [10, 20, 30, 1, 2, 100, 10, 30, 3, 4, 10]\n",
    "setVlans = set(vlans)\n",
    "\n",
    "sortedVlans = list(setVlans)\n",
    "sortedVlans.sort()\n",
    "\n",
    "print(sortedVlans)"
   ]
  },
  {
   "cell_type": "markdown",
   "metadata": {},
   "source": [
    "## Задание 4.5\n",
    "\n",
    "Из строк command1 и command2 получить список VLANов, которые есть и в команде command1 и в команде command2.\n",
    "\n",
    "> Результатом должен быть список: ['1', '3', '8']\n",
    "\n",
    "`command1 = 'switchport trunk allowed vlan 1,2,3,5,8'\n",
    "command2 = 'switchport trunk allowed vlan 1,3,8,9'`"
   ]
  },
  {
   "cell_type": "code",
   "execution_count": 5,
   "metadata": {},
   "outputs": [
    {
     "name": "stdout",
     "output_type": "stream",
     "text": [
      "['1', '3', '8']\n"
     ]
    }
   ],
   "source": [
    "command1 = 'switchport trunk allowed vlan 1,2,3,5,8'\n",
    "command2 = 'switchport trunk allowed vlan 1,3,8,9'\n",
    "\n",
    "VLAN1 = command1.split()[-1]\n",
    "VLAN2 = command2.split()[-1]\n",
    "\n",
    "listVLAN1 = set(VLAN1.split(','))\n",
    "listVLAN2 = set(VLAN2.split(','))\n",
    "\n",
    "result = list(listVLAN1 & listVLAN2)\n",
    "result.sort()\n",
    "print(result)"
   ]
  },
  {
   "cell_type": "markdown",
   "metadata": {},
   "source": [
    "## Задание 4.6\n",
    "\n",
    "Обработать строку ospf_route и вывести информацию на стандартный поток вывода в виде:\n",
    "\n",
    "`Protocol:               OSPF  \n",
    "Prefix:                 10.0.24.0/24  \n",
    "AD/Metric:              110/41  \n",
    "Next-Hop:               10.0.13.3  \n",
    "Last update:            3d18h  \n",
    "Outbound Interface:     FastEthernet0/0`\n",
    "\n",
    "`ospf_route = 'O        10.0.24.0/24 [110/41] via 10.0.13.3, 3d18h, FastEthernet0/0'`\n"
   ]
  },
  {
   "cell_type": "code",
   "execution_count": 6,
   "metadata": {},
   "outputs": [
    {
     "name": "stdout",
     "output_type": "stream",
     "text": [
      "\n",
      "Protocol:                  O              \n",
      "Prefix:                    10.0.24.0/24   \n",
      "AD/Metric:                 110/41         \n",
      "Next-Hop:                  10.0.13.3      \n",
      "Last update:               3d18h          \n",
      "Outbound Interface:        FastEthernet0/0\n",
      "\n"
     ]
    }
   ],
   "source": [
    "ospf_route = 'O        10.0.24.0/24 [110/41] via 10.0.13.3, 3d18h, FastEthernet0/0'\n",
    "ospfList = ospf_route.split()\n",
    "\n",
    "tunnel = \"\"\"\n",
    "Protocol:                  {:15}\n",
    "Prefix:                    {:15}\n",
    "AD/Metric:                 {:15}\n",
    "Next-Hop:                  {:15}\n",
    "Last update:               {:15}\n",
    "Outbound Interface:        {:15}\n",
    "\"\"\".format(\n",
    "    ospfList[0],\n",
    "    ospfList[1],\n",
    "    ospfList[2].strip('[]'),\n",
    "    ospfList[4].rstrip(','),\n",
    "    ospfList[5].rstrip(','),\n",
    "    ospfList[6]\n",
    ")\n",
    "print(tunnel)"
   ]
  },
  {
   "cell_type": "markdown",
   "metadata": {},
   "source": [
    "## Задание 4.7\n",
    "\n",
    "Преобразовать MAC-адрес mac в двоичную строку такого вида: *101010101010101010111011101110111100110011001100*\n",
    "\n",
    "`mac = 'AAAA:BBBB:CCCC'`"
   ]
  },
  {
   "cell_type": "code",
   "execution_count": 7,
   "metadata": {},
   "outputs": [
    {
     "name": "stdout",
     "output_type": "stream",
     "text": [
      "101010101010101010111011101110111100110011001100\n"
     ]
    }
   ],
   "source": [
    "mac = 'AAAA:BBBB:CCCC'\n",
    "macList = mac.split(':')\n",
    "\n",
    "firstNum = int(macList[0], 16)\n",
    "secondNum = int(macList[1], 16)\n",
    "thirdNum = int(macList[2], 16)\n",
    "\n",
    "template = '{:b}{:b}{:b}'.format(firstNum, secondNum, thirdNum)\n",
    "print(template)"
   ]
  },
  {
   "cell_type": "markdown",
   "metadata": {},
   "source": [
    "## Задание 4.8\n",
    "\n",
    "Преобразовать IP-адрес в двоичный формат и вывести на стандартный поток вывода вывод столбцами, таким образом:\n",
    "\n",
    "    первой строкой должны идти десятичные значения байтов\n",
    "    второй строкой двоичные значения\n",
    "\n",
    "Вывод должен быть упорядочен также, как в примере:\n",
    "\n",
    "    столбцами\n",
    "    ширина столбца 10 символов\n",
    "\n",
    "Пример вывода для адреса 10.1.1.1:  \n",
    "`\n",
    "10        1         1         1  \n",
    "00001010  00000001  00000001  00000001  \n",
    "`\n",
    "\n",
    "`ip = '192.168.3.1'`\n",
    "\n"
   ]
  },
  {
   "cell_type": "code",
   "execution_count": 8,
   "metadata": {},
   "outputs": [
    {
     "name": "stdout",
     "output_type": "stream",
     "text": [
      "\n",
      "IP address:\n",
      "192      168      3        1       \n",
      "11000000 10101000 00000011 00000001\n",
      "\n"
     ]
    }
   ],
   "source": [
    "ip = '192.168.3.1'\n",
    "ipList = ip.split('.')\n",
    "\n",
    "ip_template = '''\n",
    "IP address:\n",
    "{0:<8} {1:<8} {2:<8} {3:<8}\n",
    "{0:08b} {1:08b} {2:08b} {3:08b}\n",
    "'''.format(int(ipList[0]), int(ipList[1]), int(ipList[2]), int(ipList[3]))\n",
    "\n",
    "print(ip_template)"
   ]
  },
  {
   "cell_type": "markdown",
   "metadata": {},
   "source": [
    "## Задание 5.1\n",
    "\n",
    "В задании создан словарь, с информацией о разных устройствах.\n",
    "\n",
    "Необходимо запросить у пользователя ввод имени устройства (r1, r2 или sw1). И вывести информацию о соответствующем устройстве на стандартный поток вывода (информация будет в виде словаря).\n",
    "\n",
    "Пример выполнения скрипта:  \n",
    "```\n",
    "$ python task_5_1.py  \n",
    "Введите имя устройства: r1  \n",
    "{'location': '21 New Globe Walk', 'vendor': 'Cisco', 'model': '4451', 'ios': '15.4', 'ip': '10.255.0.1'}\n",
    "```"
   ]
  },
  {
   "cell_type": "code",
   "execution_count": 9,
   "metadata": {},
   "outputs": [
    {
     "name": "stdout",
     "output_type": "stream",
     "text": [
      "Введите имя устройства: r1\n",
      "{'location': '21 New Globe Walk', 'vendor': 'Cisco', 'model': '4451', 'ios': '15.4', 'ip': '10.255.0.1'}\n"
     ]
    }
   ],
   "source": [
    "london_co = {\n",
    "    'r1': {\n",
    "        'location': '21 New Globe Walk',\n",
    "        'vendor': 'Cisco',\n",
    "        'model': '4451',\n",
    "        'ios': '15.4',\n",
    "        'ip': '10.255.0.1'\n",
    "    },\n",
    "    'r2': {\n",
    "        'location': '21 New Globe Walk',\n",
    "        'vendor': 'Cisco',\n",
    "        'model': '4451',\n",
    "        'ios': '15.4',\n",
    "        'ip': '10.255.0.2'\n",
    "    },\n",
    "    'sw1': {\n",
    "        'location': '21 New Globe Walk',\n",
    "        'vendor': 'Cisco',\n",
    "        'model': '3850',\n",
    "        'ios': '3.6.XE',\n",
    "        'ip': '10.255.0.101',\n",
    "        'vlans': '10,20,30',\n",
    "        'routing': True\n",
    "    }\n",
    "}\n",
    "\n",
    "result = input('Введите имя устройства: ')\n",
    "print(london_co[result])"
   ]
  },
  {
   "cell_type": "markdown",
   "metadata": {},
   "source": [
    "## Задание 5.1a\n",
    "\n",
    "Переделать скрипт из задания 5.1 таким образом, чтобы, кроме имени устройства, запрашивался также параметр устройства, который нужно отобразить.\n",
    "\n",
    "Вывести информацию о соответствующем параметре, указанного устройства.\n",
    "\n",
    "Пример выполнения скрипта:\n",
    "\n",
    "```\n",
    "$ python task_5_1a.py\n",
    "Введите имя устройства: r1\n",
    "Введите имя параметра: ios\n",
    "15.4\n",
    "```\n"
   ]
  },
  {
   "cell_type": "code",
   "execution_count": 10,
   "metadata": {},
   "outputs": [
    {
     "name": "stdout",
     "output_type": "stream",
     "text": [
      "Введите имя устройства: r1\n",
      "Введите имя параметра: ip\n",
      "10.255.0.1\n"
     ]
    }
   ],
   "source": [
    "london_co = {\n",
    "    'r1': {\n",
    "        'location': '21 New Globe Walk',\n",
    "        'vendor': 'Cisco',\n",
    "        'model': '4451',\n",
    "        'ios': '15.4',\n",
    "        'ip': '10.255.0.1'\n",
    "    },\n",
    "    'r2': {\n",
    "        'location': '21 New Globe Walk',\n",
    "        'vendor': 'Cisco',\n",
    "        'model': '4451',\n",
    "        'ios': '15.4',\n",
    "        'ip': '10.255.0.2'\n",
    "    },\n",
    "    'sw1': {\n",
    "        'location': '21 New Globe Walk',\n",
    "        'vendor': 'Cisco',\n",
    "        'model': '3850',\n",
    "        'ios': '3.6.XE',\n",
    "        'ip': '10.255.0.101',\n",
    "        'vlans': '10,20,30',\n",
    "        'routing': True\n",
    "    }\n",
    "}\n",
    "\n",
    "nameDevice = input('Введите имя устройства: ')\n",
    "nameParam = input('Введите имя параметра: ')\n",
    "\n",
    "print(london_co[nameDevice][nameParam])"
   ]
  },
  {
   "cell_type": "markdown",
   "metadata": {},
   "source": [
    "## Задание 5.1b\n",
    "\n",
    "Переделать скрипт из задания 5.1a таким образом, чтобы, при запросе параметра, отображался список возможных параметров. Список параметров надо получить из словаря, а не прописывать вручную.\n",
    "\n",
    "Вывести информацию о соответствующем параметре, указанного устройства.\n",
    "\n",
    "Пример выполнения скрипта:\n",
    "\n",
    "```\n",
    "$ python task_5_1b.py\n",
    "Введите имя устройства: r1\n",
    "Введите имя параметра (ios, model, vendor, location, ip): ip\n",
    "10.255.0.1\n",
    "```\n"
   ]
  },
  {
   "cell_type": "code",
   "execution_count": 11,
   "metadata": {},
   "outputs": [
    {
     "name": "stdout",
     "output_type": "stream",
     "text": [
      "Введите имя устройства: r1\n",
      "Введите имя параметра(location, vendor, model, ios, ip) ios\n",
      "15.4\n"
     ]
    }
   ],
   "source": [
    "london_co = {\n",
    "    'r1': {\n",
    "        'location': '21 New Globe Walk',\n",
    "        'vendor': 'Cisco',\n",
    "        'model': '4451',\n",
    "        'ios': '15.4',\n",
    "        'ip': '10.255.0.1'\n",
    "    },\n",
    "    'r2': {\n",
    "        'location': '21 New Globe Walk',\n",
    "        'vendor': 'Cisco',\n",
    "        'model': '4451',\n",
    "        'ios': '15.4',\n",
    "        'ip': '10.255.0.2'\n",
    "    },\n",
    "    'sw1': {\n",
    "        'location': '21 New Globe Walk',\n",
    "        'vendor': 'Cisco',\n",
    "        'model': '3850',\n",
    "        'ios': '3.6.XE',\n",
    "        'ip': '10.255.0.101',\n",
    "        'vlans': '10,20,30',\n",
    "        'routing': True\n",
    "    }\n",
    "}\n",
    "\n",
    "nameDevice = input('Введите имя устройства: ')\n",
    "\n",
    "keys = london_co[nameDevice].keys()\n",
    "keysList = list(keys)\n",
    "\n",
    "nameParam = input('Введите имя параметра({}) '.format(', '.join(keysList)))\n",
    "\n",
    "print(london_co[nameDevice][nameParam])"
   ]
  },
  {
   "cell_type": "markdown",
   "metadata": {},
   "source": [
    "## Задание 5.1c\n",
    "\n",
    "Переделать скрипт из задания 5.1b таким образом, чтобы, при запросе параметра, которого нет в словаре устройства, отображалось сообщение „Такого параметра нет“.\n",
    "\n",
    "Если выбран существующий параметр, вывести информацию о соответствующем параметре, указанного устройства.\n",
    "\n",
    "Пример выполнения скрипта:\n",
    "\n",
    "```\n",
    "$ python task_5_1c.py\n",
    "Введите имя устройства: r1\n",
    "Введите имя параметра (ios, model, vendor, location, ip): ips\n",
    "Такого параметра нет\n",
    "```"
   ]
  },
  {
   "cell_type": "code",
   "execution_count": 12,
   "metadata": {},
   "outputs": [
    {
     "name": "stdout",
     "output_type": "stream",
     "text": [
      "Введите имя устройства: r1\n",
      "Введите имя параметра(location, vendor, model, ios, ip) ips\n",
      "Такого параметра нет\n"
     ]
    }
   ],
   "source": [
    "london_co = {\n",
    "    'r1': {\n",
    "        'location': '21 New Globe Walk',\n",
    "        'vendor': 'Cisco',\n",
    "        'model': '4451',\n",
    "        'ios': '15.4',\n",
    "        'ip': '10.255.0.1'\n",
    "    },\n",
    "    'r2': {\n",
    "        'location': '21 New Globe Walk',\n",
    "        'vendor': 'Cisco',\n",
    "        'model': '4451',\n",
    "        'ios': '15.4',\n",
    "        'ip': '10.255.0.2'\n",
    "    },\n",
    "    'sw1': {\n",
    "        'location': '21 New Globe Walk',\n",
    "        'vendor': 'Cisco',\n",
    "        'model': '3850',\n",
    "        'ios': '3.6.XE',\n",
    "        'ip': '10.255.0.101',\n",
    "        'vlans': '10,20,30',\n",
    "        'routing': True\n",
    "    }\n",
    "}\n",
    "\n",
    "nameDevice = input('Введите имя устройства: ')\n",
    "\n",
    "keys = london_co[nameDevice].keys()\n",
    "keysList = list(keys)\n",
    "\n",
    "nameParam = input('Введите имя параметра({}) '.format(', '.join(keysList)))\n",
    "\n",
    "print(london_co[nameDevice].get(nameParam, 'Такого параметра нет'))"
   ]
  },
  {
   "cell_type": "markdown",
   "metadata": {},
   "source": [
    "## Задание 5.1d\n",
    "\n",
    "Переделать скрипт из задания 5.1c таким образом, чтобы, при запросе параметра, пользователь мог вводить название параметра в любом регистре.\n",
    "\n",
    "Пример выполнения скрипта:\n",
    "\n",
    "```\n",
    "$ python task_5_1d.py\n",
    "Введите имя устройства: r1\n",
    "Введите имя параметра (ios, model, vendor, location, ip): IOS\n",
    "15.4\n",
    "```"
   ]
  },
  {
   "cell_type": "code",
   "execution_count": 13,
   "metadata": {},
   "outputs": [
    {
     "name": "stdout",
     "output_type": "stream",
     "text": [
      "Введите имя устройства: r1\n",
      "Введите имя параметра(location, vendor, model, ios, ip) IOS\n",
      "15.4\n"
     ]
    }
   ],
   "source": [
    "london_co = {\n",
    "    'r1': {\n",
    "        'location': '21 New Globe Walk',\n",
    "        'vendor': 'Cisco',\n",
    "        'model': '4451',\n",
    "        'ios': '15.4',\n",
    "        'ip': '10.255.0.1'\n",
    "    },\n",
    "    'r2': {\n",
    "        'location': '21 New Globe Walk',\n",
    "        'vendor': 'Cisco',\n",
    "        'model': '4451',\n",
    "        'ios': '15.4',\n",
    "        'ip': '10.255.0.2'\n",
    "    },\n",
    "    'sw1': {\n",
    "        'location': '21 New Globe Walk',\n",
    "        'vendor': 'Cisco',\n",
    "        'model': '3850',\n",
    "        'ios': '3.6.XE',\n",
    "        'ip': '10.255.0.101',\n",
    "        'vlans': '10,20,30',\n",
    "        'routing': True\n",
    "    }\n",
    "}\n",
    "\n",
    "nameDevice = input('Введите имя устройства: ')\n",
    "\n",
    "keys = london_co[nameDevice].keys()\n",
    "keysList = list(keys)\n",
    "\n",
    "nameParam = input('Введите имя параметра({}) '.format(', '.join(keysList)))\n",
    "\n",
    "print(london_co[nameDevice].get(nameParam.lower(), 'Такого параметра нет'))"
   ]
  },
  {
   "cell_type": "markdown",
   "metadata": {},
   "source": [
    "## Задание 5.2\n",
    "\n",
    "Запросить у пользователя ввод IP-сети в формате: 10.1.1.0/24\n",
    "\n",
    "Затем вывести информацию о сети и маске в таком формате:\n",
    "\n",
    "```\n",
    "Network:\n",
    "10        1         1         0\n",
    "00001010  00000001  00000001  00000000\n",
    "\n",
    "Mask:\n",
    "/24\n",
    "255       255       255       0\n",
    "11111111  11111111  11111111  00000000\n",
    "```\n",
    "\n",
    "Проверить работу скрипта на разных комбинациях сеть/маска."
   ]
  },
  {
   "cell_type": "code",
   "execution_count": 17,
   "metadata": {},
   "outputs": [
    {
     "name": "stdout",
     "output_type": "stream",
     "text": [
      "Введите IP: 10.1.1.0/16\n",
      "\n",
      "Network:\n",
      "10       1        0        0       \n",
      "00001010 00000001 00000000 00000000\n",
      "\n",
      "Mask:\n",
      "/16\n",
      "255      255      0        0       \n",
      "11111111 11111111 00000000 00000000\n",
      "\n"
     ]
    }
   ],
   "source": [
    "widthMask = 32\n",
    "\n",
    "ip = input('Введите IP: ')\n",
    "\n",
    "shortMask = ip.split('/')[1]\n",
    "network = ip.split('/')[0]\n",
    "networkList = network.split('.')\n",
    "maskUnits = '1' * int(shortMask)\n",
    "mask = maskUnits.ljust(widthMask, '0')\n",
    "\n",
    "firstNumMusk = mask[0:8]\n",
    "secondNumMusk = mask[8:16]\n",
    "thirdNumMusk = mask[16:24]\n",
    "fourthNumMusk = mask[24:33]\n",
    "\n",
    "template = '''\n",
    "Network:\n",
    "{0:<8} {1:<8} {2:<8} {3:<8}\n",
    "{0:08b} {1:08b} {2:08b} {3:08b}\n",
    "\n",
    "Mask:\n",
    "/{4}\n",
    "{5:<8} {6:<8} {7:<8} {8:<8}\n",
    "{5:>08b} {6:>08b} {7:>08b} {8:>08b}\n",
    "'''.format(\n",
    "    int(networkList[0]) & int(firstNumMusk, 2),\n",
    "    int(networkList[1]) & int(secondNumMusk, 2),\n",
    "    int(networkList[2]) & int(thirdNumMusk, 2),\n",
    "    int(networkList[3]) & int(fourthNumMusk, 2),\n",
    "    int(shortMask),\n",
    "    int(firstNumMusk, 2),\n",
    "    int(secondNumMusk, 2),\n",
    "    int(thirdNumMusk, 2),\n",
    "    int(fourthNumMusk, 2)\n",
    ")\n",
    "\n",
    "print(template)"
   ]
  },
  {
   "cell_type": "markdown",
   "metadata": {},
   "source": [
    "## Задание 5.2a\n",
    "\n",
    "Всё, как в задании 5.2, но, если пользователь ввел адрес хоста, а не адрес сети, надо преобразовать адрес хоста в адрес сети и вывести адрес сети и маску, как в задании 5.2.\n",
    "\n",
    "Пример адреса сети (все биты хостовой части равны нулю):\n",
    "\n",
    "    10.0.1.0/24\n",
    "    190.1.0.0/16\n",
    "\n",
    "Пример адреса хоста:\n",
    "\n",
    "    10.0.1.1/24 - хост из сети 10.0.1.0/24\n",
    "    10.0.5.1/30 - хост из сети 10.0.5.0/30\n",
    "\n",
    "Если пользователь ввел адрес 10.0.1.1/24, вывод должен быть таким:\n",
    "\n",
    "```\n",
    "Network:\n",
    "10        0         1         0\n",
    "00001010  00000000  00000001  00000000\n",
    "\n",
    "Mask:\n",
    "/24\n",
    "255       255       255       0\n",
    "11111111  11111111  11111111  00000000\n",
    "```\n",
    "\n",
    "Проверить работу скрипта на разных комбинациях сеть/маска."
   ]
  },
  {
   "cell_type": "code",
   "execution_count": 20,
   "metadata": {},
   "outputs": [
    {
     "name": "stdout",
     "output_type": "stream",
     "text": [
      "Введите IP: 10.0.1.1/24\n",
      "['10', '0', '1', '1']\n",
      "\n",
      "Network:\n",
      "10       0        1        0       \n",
      "00001010 00000000 00000001 00000000\n",
      "\n",
      "Mask:\n",
      "/24\n",
      "255      255      255      0       \n",
      "11111111 11111111 11111111 00000000\n",
      "\n"
     ]
    }
   ],
   "source": [
    "widthMask = 32\n",
    "\n",
    "ip = input('Введите IP: ')\n",
    "\n",
    "shortMask = ip.split('/')[1]\n",
    "networkInput = ip.split('/')[0]\n",
    "networkList = networkInput.split('.')\n",
    "maskUnits = '1' * int(shortMask)\n",
    "mask = maskUnits.ljust(widthMask, '0')\n",
    "\n",
    "firstNumMusk = mask[0:8]\n",
    "secondNumMusk = mask[8:16]\n",
    "thirdNumMusk = mask[16:24]\n",
    "fourthNumMusk = mask[24:33]\n",
    "\n",
    "template = '''\n",
    "Network:\n",
    "{0:<8} {1:<8} {2:<8} {3:<8}\n",
    "{0:08b} {1:08b} {2:08b} {3:08b}\n",
    "\n",
    "Mask:\n",
    "/{4}\n",
    "{5:<8} {6:<8} {7:<8} {8:<8}\n",
    "{5:>08b} {6:>08b} {7:>08b} {8:>08b}\n",
    "'''.format(\n",
    "    int(networkList[0]) & int(firstNumMusk, 2),\n",
    "    int(networkList[1]) & int(secondNumMusk, 2),\n",
    "    int(networkList[2]) & int(thirdNumMusk, 2),\n",
    "    int(networkList[3]) & int(fourthNumMusk, 2),\n",
    "    int(shortMask),\n",
    "    int(firstNumMusk, 2),\n",
    "    int(secondNumMusk, 2),\n",
    "    int(thirdNumMusk, 2),\n",
    "    int(fourthNumMusk, 2)\n",
    ")\n",
    "\n",
    "print(template)"
   ]
  },
  {
   "cell_type": "markdown",
   "metadata": {},
   "source": [
    "## Задание 5.2b\n",
    "\n",
    "Преобразовать скрипт из задания 5.2a таким образом, чтобы сеть/маска не запрашивались у пользователя, а передавались как аргумент скрипту.\n",
    "(на компе)"
   ]
  },
  {
   "cell_type": "code",
   "execution_count": 21,
   "metadata": {},
   "outputs": [
    {
     "ename": "IndexError",
     "evalue": "list index out of range",
     "output_type": "error",
     "traceback": [
      "\u001b[1;31m---------------------------------------------------------------------------\u001b[0m",
      "\u001b[1;31mIndexError\u001b[0m                                Traceback (most recent call last)",
      "\u001b[1;32m<ipython-input-21-cf8d0df4bf85>\u001b[0m in \u001b[0;36m<module>\u001b[1;34m\u001b[0m\n\u001b[0;32m      7\u001b[0m \u001b[0mip\u001b[0m \u001b[1;33m=\u001b[0m \u001b[0margv\u001b[0m\u001b[1;33m[\u001b[0m\u001b[1;36m1\u001b[0m\u001b[1;33m]\u001b[0m\u001b[1;33m\u001b[0m\u001b[1;33m\u001b[0m\u001b[0m\n\u001b[0;32m      8\u001b[0m \u001b[1;33m\u001b[0m\u001b[0m\n\u001b[1;32m----> 9\u001b[1;33m \u001b[0mshortMask\u001b[0m \u001b[1;33m=\u001b[0m \u001b[0mip\u001b[0m\u001b[1;33m.\u001b[0m\u001b[0msplit\u001b[0m\u001b[1;33m(\u001b[0m\u001b[1;34m'/'\u001b[0m\u001b[1;33m)\u001b[0m\u001b[1;33m[\u001b[0m\u001b[1;36m1\u001b[0m\u001b[1;33m]\u001b[0m\u001b[1;33m\u001b[0m\u001b[1;33m\u001b[0m\u001b[0m\n\u001b[0m\u001b[0;32m     10\u001b[0m \u001b[0mnetworkInput\u001b[0m \u001b[1;33m=\u001b[0m \u001b[0mip\u001b[0m\u001b[1;33m.\u001b[0m\u001b[0msplit\u001b[0m\u001b[1;33m(\u001b[0m\u001b[1;34m'/'\u001b[0m\u001b[1;33m)\u001b[0m\u001b[1;33m[\u001b[0m\u001b[1;36m0\u001b[0m\u001b[1;33m]\u001b[0m\u001b[1;33m\u001b[0m\u001b[1;33m\u001b[0m\u001b[0m\n\u001b[0;32m     11\u001b[0m \u001b[0mnetworkList\u001b[0m \u001b[1;33m=\u001b[0m \u001b[0mnetworkInput\u001b[0m\u001b[1;33m.\u001b[0m\u001b[0msplit\u001b[0m\u001b[1;33m(\u001b[0m\u001b[1;34m'.'\u001b[0m\u001b[1;33m)\u001b[0m\u001b[1;33m\u001b[0m\u001b[1;33m\u001b[0m\u001b[0m\n",
      "\u001b[1;31mIndexError\u001b[0m: list index out of range"
     ]
    }
   ],
   "source": [
    "# -*- coding: utf-8 -*-\n",
    "\n",
    "from sys import argv\n",
    "\n",
    "widthMask = 32\n",
    "\n",
    "ip = argv[1]\n",
    "\n",
    "shortMask = ip.split('/')[1]\n",
    "networkInput = ip.split('/')[0]\n",
    "networkList = networkInput.split('.')\n",
    "print(networkList)\n",
    "maskUnits = '1' * int(shortMask)\n",
    "mask = maskUnits.ljust(widthMask, '0')\n",
    "\n",
    "firstNumMusk = mask[0:8]\n",
    "secondNumMusk = mask[8:16]\n",
    "thirdNumMusk = mask[16:24]\n",
    "fourthNumMusk = mask[24:33]\n",
    "\n",
    "template = '''\n",
    "Network:\n",
    "{0:<8} {1:<8} {2:<8} {3:<8}\n",
    "{0:08b} {1:08b} {2:08b} {3:08b}\n",
    "\n",
    "Mask:\n",
    "/{4}\n",
    "{5:<8} {6:<8} {7:<8} {8:<8}\n",
    "{5:>08b} {6:>08b} {7:>08b} {8:>08b}\n",
    "'''.format(\n",
    "    int(networkList[0]) & int(firstNumMusk, 2),\n",
    "    int(networkList[1]) & int(secondNumMusk, 2),\n",
    "    int(networkList[2]) & int(thirdNumMusk, 2),\n",
    "    int(networkList[3]) & int(fourthNumMusk, 2),\n",
    "    int(shortMask),\n",
    "    int(firstNumMusk, 2),\n",
    "    int(secondNumMusk, 2),\n",
    "    int(thirdNumMusk, 2),\n",
    "    int(fourthNumMusk, 2)\n",
    ")\n",
    "\n",
    "print(template)"
   ]
  },
  {
   "cell_type": "markdown",
   "metadata": {},
   "source": [
    "\n",
    "## Задание 5.3\n",
    "\n",
    "Скрипт должен запрашивать у пользователя:\n",
    "\n",
    "    информацию о режиме интерфейса (access/trunk)\n",
    "    номере интерфейса (тип и номер, вида Gi0/3)\n",
    "    номер VLANа (для режима trunk будет вводиться список VLANов)\n",
    "\n",
    "В зависимости от выбранного режима, на стандартный поток вывода, должна возвращаться соответствующая конфигурация access или trunk (шаблоны команд находятся в списках access_template и trunk_template).\n",
    "\n",
    "При этом, сначала должна идти строка interface и подставлен номер интерфейса, а затем соответствующий шаблон, в который подставлен номер VLANа (или список VLANов).\n",
    "\n",
    "Ограничение: Все задания надо выполнять используя только пройденные темы. То есть эту задачу можно решить без использования условия if и циклов for/while.\n",
    "\n",
    "Ниже примеры выполнения скрипта, чтобы было проще понять задачу.\n",
    "\n",
    "Пример выполнения скрипта, при выборе режима access:\n",
    "\n",
    "```\n",
    "$ python task_5_3.py\n",
    "Введите режим работы интерфейса (access/trunk): access\n",
    "Введите тип и номер интерфейса: Fa0/6\n",
    "Введите номер влан(ов): 3\n",
    "\n",
    "interface Fa0/6\n",
    "switchport mode access\n",
    "switchport access vlan 3\n",
    "switchport nonegotiate\n",
    "spanning-tree portfast\n",
    "spanning-tree bpduguard enable\n",
    "```\n",
    "\n",
    "Пример выполнения скрипта, при выборе режима trunk:\n",
    "\n",
    "```\n",
    "$ python task_5_3.py\n",
    "Введите режим работы интерфейса (access/trunk): trunk\n",
    "Введите тип и номер интерфейса: Fa0/7\n",
    "Введите номер влан(ов): 2,3,4,5\n",
    "\n",
    "interface Fa0/7\n",
    "switchport trunk encapsulation dot1q\n",
    "switchport mode trunk\n",
    "switchport trunk allowed vlan 2,3,4,5\n",
    "\n",
    "access_template = [\n",
    "    'switchport mode access', 'switchport access vlan {}',\n",
    "    'switchport nonegotiate', 'spanning-tree portfast',\n",
    "    'spanning-tree bpduguard enable'\n",
    "]\n",
    "\n",
    "trunk_template = [\n",
    "    'switchport trunk encapsulation dot1q', 'switchport mode trunk',\n",
    "    'switchport trunk allowed vlan {}'\n",
    "]\n",
    "\n",
    "```"
   ]
  },
  {
   "cell_type": "code",
   "execution_count": 22,
   "metadata": {},
   "outputs": [
    {
     "name": "stdout",
     "output_type": "stream",
     "text": [
      "Введите режим работы интерфейса (access/trunk): trunk\n",
      "Введите тип и номер интерфейса: Fa0\\7\n",
      "Введите номер влан(ов): 2,3,4,5\n",
      "\n",
      "\n",
      "interface  Fa0\\7\n",
      "switchport trunk encapsulation dot1q\n",
      "switchport mode trunk\n",
      "switchport trunk allowed vlan 2,3,4,5\n"
     ]
    }
   ],
   "source": [
    "WorkIntfUser = input('Введите режим работы интерфейса (access/trunk): ')\n",
    "InteraceUser = input('Введите тип и номер интерфейса: ')\n",
    "NumberVlanUser = input('Введите номер влан(ов): ')\n",
    "\n",
    "access_template = [\n",
    "    'switchport mode access', 'switchport access vlan {}',\n",
    "    'switchport nonegotiate', 'spanning-tree portfast',\n",
    "    'spanning-tree bpduguard enable'\n",
    "]\n",
    "\n",
    "trunk_template = [\n",
    "    'switchport trunk encapsulation dot1q', 'switchport mode trunk',\n",
    "    'switchport trunk allowed vlan {}'\n",
    "]\n",
    "\n",
    "typeWorkItf = {\n",
    "    'access': access_template,\n",
    "    'trunk': trunk_template\n",
    "}\n",
    "\n",
    "print('\\n')\n",
    "\n",
    "print('interface  {0}'.format(InteraceUser))\n",
    "\n",
    "for line in typeWorkItf[WorkIntfUser]:\n",
    "    if line.endswith('{}'):\n",
    "        line = line.replace('{}', NumberVlanUser)\n",
    "        print(line)\n",
    "    else:\n",
    "        print(line)"
   ]
  },
  {
   "cell_type": "markdown",
   "metadata": {},
   "source": [
    "## Задание 5.3a\n",
    "\n",
    "Дополнить скрипт из задания 5.3 таким образом, чтобы, в зависимости от выбранного режима, задавались разные вопросы в запросе о номере VLANа или списка VLANов:\n",
    "\n",
    "    для access: „Введите номер VLAN:“\n",
    "    для trunk: „Введите разрешенные VLANы:“\n",
    "\n",
    "Ограничение: Все задания надо выполнять используя только пройденные темы. То есть эту задачу можно решить без использования условия if и циклов for/while.\n",
    "\n",
    "```\n",
    "access_template = [\n",
    "    'switchport mode access', 'switchport access vlan {}',\n",
    "    'switchport nonegotiate', 'spanning-tree portfast',\n",
    "    'spanning-tree bpduguard enable'\n",
    "]\n",
    "\n",
    "trunk_template = [\n",
    "    'switchport trunk encapsulation dot1q', 'switchport mode trunk',\n",
    "    'switchport trunk allowed vlan {}'\n",
    "]\n",
    "\n",
    "```"
   ]
  },
  {
   "cell_type": "code",
   "execution_count": 23,
   "metadata": {},
   "outputs": [
    {
     "name": "stdout",
     "output_type": "stream",
     "text": [
      "Введите режим работы интерфейса (access/trunk): trunk\n",
      "Введите тип и номер интерфейса: Fa0/7\n",
      "Введите разрешенные VLANы:2,3,4,5\n",
      "\n",
      "\n",
      "interface  Fa0/7\n",
      "switchport trunk encapsulation dot1q\n",
      "switchport mode trunk\n",
      "switchport trunk allowed vlan 2,3,4,5\n"
     ]
    }
   ],
   "source": [
    "WorkIntfUser = input('Введите режим работы интерфейса (access/trunk): ')\n",
    "InteraceUser = input('Введите тип и номер интерфейса: ')\n",
    "\n",
    "questions = {\n",
    "    'access': 'Введите номер VLAN:',\n",
    "    'trunk': 'Введите разрешенные VLANы:'\n",
    "}\n",
    "\n",
    "NumberVlanUser = input(questions[WorkIntfUser])\n",
    "\n",
    "access_template = [\n",
    "    'switchport mode access', 'switchport access vlan {}',\n",
    "    'switchport nonegotiate', 'spanning-tree portfast',\n",
    "    'spanning-tree bpduguard enable'\n",
    "]\n",
    "\n",
    "trunk_template = [\n",
    "    'switchport trunk encapsulation dot1q', 'switchport mode trunk',\n",
    "    'switchport trunk allowed vlan {}'\n",
    "]\n",
    "\n",
    "typeWorkItf = {\n",
    "    'access': access_template,\n",
    "    'trunk': trunk_template\n",
    "}\n",
    "\n",
    "\n",
    "print('\\n')\n",
    "\n",
    "print('interface  {0}'.format(InteraceUser))\n",
    "\n",
    "for line in typeWorkItf[WorkIntfUser]:\n",
    "    if line.endswith('{}'):\n",
    "        line = line.replace('{}', NumberVlanUser)\n",
    "        print(line)\n",
    "    else:\n",
    "        print(line)"
   ]
  },
  {
   "cell_type": "markdown",
   "metadata": {},
   "source": [
    "## Задание 6.1\n",
    "\n",
    "Список mac содержит MAC-адреса в формате XXXX:XXXX:XXXX. Однако, в оборудовании cisco MAC-адреса используются в формате XXXX.XXXX.XXXX.\n",
    "\n",
    "Создать скрипт, который преобразует MAC-адреса в формат cisco и добавляет их в новый список mac_cisco\n",
    "```\n",
    "mac = ['aabb:cc80:7000', 'aabb:dd80:7340', 'aabb:ee80:7000', 'aabb:ff80:7000']\n",
    "```"
   ]
  },
  {
   "cell_type": "code",
   "execution_count": 24,
   "metadata": {},
   "outputs": [
    {
     "name": "stdout",
     "output_type": "stream",
     "text": [
      "['aabb.cc80.7000', 'aabb.dd80.7340', 'aabb.ee80.7000', 'aabb.ff80.7000']\n"
     ]
    }
   ],
   "source": [
    "macs = ['aabb:cc80:7000', 'aabb:dd80:7340', 'aabb:ee80:7000', 'aabb:ff80:7000']\n",
    "macs_cisco = []\n",
    "\n",
    "for mac in macs:\n",
    "    mac_cisco = mac.replace(':', '.')\n",
    "    macs_cisco.append(mac_cisco)\n",
    "\n",
    "print(macs_cisco)"
   ]
  },
  {
   "cell_type": "markdown",
   "metadata": {},
   "source": [
    "## Задание 6.2\n",
    "\n",
    "1. Запросить у пользователя ввод IP-адреса в формате 10.0.1.1\n",
    "2. Определить тип IP-адреса.\n",
    "3. В зависимости от типа адреса, вывести на стандартный поток вывода:\n",
    "   + „unicast“ - если первый байт в диапазоне 1-223\n",
    "   + „multicast“ - если первый байт в диапазоне 224-239\n",
    "   + „local broadcast“ - если IP-адрес равен 255.255.255.255\n",
    "   + „unassigned“ - если IP-адрес равен 0.0.0.0\n",
    "   + „unused“ - во всех остальных случаях\n"
   ]
  },
  {
   "cell_type": "code",
   "execution_count": 25,
   "metadata": {},
   "outputs": [
    {
     "name": "stdout",
     "output_type": "stream",
     "text": [
      "введите IP-адреса в формате 10.0.1.110.10.10.10\n",
      "unicast\n"
     ]
    }
   ],
   "source": [
    "ip = input(\"введите IP-адреса в формате 10.0.1.1\")\n",
    "\n",
    "firstByte = int(ip.split('.')[0])\n",
    "\n",
    "if firstByte >= 1 and firstByte <= 223:\n",
    "    print('unicast')\n",
    "elif firstByte >= 224 and firstByte <= 239:\n",
    "    print('multicast')\n",
    "elif ip == '255.255.255.255':\n",
    "    print('local broadcast')\n",
    "elif ip == '0.0.0.0':\n",
    "    print('unassigned')\n",
    "else:\n",
    "    print('unused')\n"
   ]
  },
  {
   "cell_type": "markdown",
   "metadata": {},
   "source": [
    "## Задание 6.2a\n",
    "\n",
    "Сделать копию скрипта задания 6.2.\n",
    "\n",
    "Добавить проверку введенного IP-адреса. Адрес считается корректно заданным, если он:\n",
    "\n",
    "+ состоит из 4 чисел разделенных точкой,\n",
    "+ каждое число в диапазоне от 0 до 255.\n",
    "\n",
    "Если адрес задан неправильно, выводить сообщение: „Неправильный IP-адрес“"
   ]
  },
  {
   "cell_type": "code",
   "execution_count": 27,
   "metadata": {},
   "outputs": [
    {
     "name": "stdout",
     "output_type": "stream",
     "text": [
      "введите IP-адреса в формате 10.0.1.1:  10.255.255.255\n",
      "unicast\n"
     ]
    }
   ],
   "source": [
    "COUNT_NUM_IP = 4\n",
    "\n",
    "checkIp = False;\n",
    "\n",
    "ip = input(\"введите IP-адреса в формате 10.0.1.1:  \")\n",
    "\n",
    "ipList = ip.split('.')\n",
    "\n",
    "if (len(ipList) == COUNT_NUM_IP):\n",
    "    for byte in ipList:\n",
    "\n",
    "        if int(byte) < 0 or int(byte) > 255:\n",
    "            print('Неправильный IP-адрес')\n",
    "            checkIp = False\n",
    "            break\n",
    "        else:\n",
    "            checkIp = True\n",
    "\n",
    "else:\n",
    "    print('Неправильный IP-адрес')\n",
    "\n",
    "if checkIp:\n",
    "    firstByte = int(ip.split('.')[0])\n",
    "\n",
    "    if firstByte >= 1 and firstByte <= 223:\n",
    "        print('unicast')\n",
    "    elif firstByte >= 224 and firstByte <= 239:\n",
    "        print('multicast')\n",
    "    elif ip == '255.255.255.255':\n",
    "        print('local broadcast')\n",
    "    elif ip == '0.0.0.0':\n",
    "        print('unassigned')\n",
    "    else:\n",
    "        print('unused')"
   ]
  },
  {
   "cell_type": "markdown",
   "metadata": {},
   "source": [
    "## Задание 6.2b\n",
    "\n",
    "Сделать копию скрипта задания 6.2a.\n",
    "\n",
    "Дополнить скрипт: Если адрес был введен неправильно, запросить адрес снова."
   ]
  },
  {
   "cell_type": "code",
   "execution_count": 29,
   "metadata": {},
   "outputs": [
    {
     "name": "stdout",
     "output_type": "stream",
     "text": [
      "введите IP-адреса в формате 10.0.1.1:  10.10.266.10\n",
      "Неправильный IP-адрес\n",
      "введите IP-адреса в формате 10.0.1.1:  10.10.1.1\n",
      "unicast\n"
     ]
    }
   ],
   "source": [
    "COUNT_NUM_IP = 4\n",
    "\n",
    "checkIp = False;\n",
    "\n",
    "while not checkIp:\n",
    "    ip = input(\"введите IP-адреса в формате 10.0.1.1:  \")\n",
    "    \n",
    "    ipList = ip.split('.')\n",
    "    \n",
    "    if (len(ipList) == COUNT_NUM_IP):\n",
    "        for byte in ipList:\n",
    "\n",
    "            if int(byte) < 0 or int(byte) > 255:\n",
    "                print('Неправильный IP-адрес')\n",
    "                checkIp = False\n",
    "                break\n",
    "            else:\n",
    "                checkIp = True\n",
    "                \n",
    "    else:\n",
    "        print('Неправильный IP-адрес')\n",
    "\n",
    "firstByte = int(ip.split('.')[0])\n",
    "\n",
    "if firstByte >= 1 and firstByte <= 223:\n",
    "    print('unicast')\n",
    "elif firstByte >= 224 and firstByte <= 239:\n",
    "    print('multicast')\n",
    "elif ip == '255.255.255.255':\n",
    "    print('local broadcast')\n",
    "elif ip == '0.0.0.0':\n",
    "    print('unassigned')\n",
    "else:\n",
    "    print('unused')"
   ]
  },
  {
   "cell_type": "markdown",
   "metadata": {},
   "source": [
    "## Задание 6.3\n",
    "\n",
    "В скрипте сделан генератор конфигурации для access-портов.\n",
    "\n",
    "Сделать аналогичный генератор конфигурации для портов trunk.\n",
    "\n",
    "В транках ситуация усложняется тем, что VLANов может быть много, и надо понимать, что с ним делать.\n",
    "\n",
    "Поэтому в соответствии каждому порту стоит список и первый (нулевой) элемент списка указывает как воспринимать номера VLAN, которые идут дальше:\n",
    "\n",
    "   + add - VLANы надо будет добавить (команда switchport trunk allowed vlan add 10,20)\n",
    "   + del - VLANы надо удалить из списка разрешенных (команда switchport trunk allowed vlan remove 17)\n",
    "   + only - на интерфейсе должны остаться разрешенными только указанные VLANы (команда switchport trunk allowed vlan 11,30)\n",
    "\n",
    "Задача для портов 0/1, 0/2, 0/4:\n",
    "\n",
    "   + сгенерировать конфигурацию на основе шаблона trunk_template\n",
    "   + с учетом ключевых слов add, del, only\n",
    "\n",
    "Код не должен привязываться к конкретным номерам портов. То есть, если в словаре trunk будут другие номера интерфейсов, код должен работать.\n",
    "\n",
    "```\n",
    "access_template = [\n",
    "    'switchport mode access', 'switchport access vlan',\n",
    "    'spanning-tree portfast', 'spanning-tree bpduguard enable'\n",
    "]\n",
    "\n",
    "trunk_template = [\n",
    "    'switchport trunk encapsulation dot1q', 'switchport mode trunk',\n",
    "    'switchport trunk allowed vlan'\n",
    "]\n",
    "\n",
    "access = {\n",
    "    '0/12': '10',\n",
    "    '0/14': '11',\n",
    "    '0/16': '17',\n",
    "    '0/17': '150'\n",
    "}\n",
    "trunk = {\n",
    "        '0/1': ['add', '10', '20'],\n",
    "        '0/2': ['only', '11', '30'],\n",
    "        '0/4': ['del', '17']\n",
    "    }\n",
    "\n",
    "for intf, vlan in access.items():\n",
    "    print('interface FastEthernet' + intf)\n",
    "    for command in access_template:\n",
    "        if command.endswith('access vlan'):\n",
    "            print(' {} {}'.format(command, vlan))\n",
    "        else:\n",
    "            print(' {}'.format(command))\n",
    "```"
   ]
  },
  {
   "cell_type": "code",
   "execution_count": 30,
   "metadata": {},
   "outputs": [
    {
     "name": "stdout",
     "output_type": "stream",
     "text": [
      "interface FastEthernet0/12\n",
      " switchport mode access\n",
      " switchport access vlan 10\n",
      " spanning-tree portfast\n",
      " spanning-tree bpduguard enable\n",
      "interface FastEthernet0/14\n",
      " switchport mode access\n",
      " switchport access vlan 11\n",
      " spanning-tree portfast\n",
      " spanning-tree bpduguard enable\n",
      "interface FastEthernet0/16\n",
      " switchport mode access\n",
      " switchport access vlan 17\n",
      " spanning-tree portfast\n",
      " spanning-tree bpduguard enable\n",
      "interface FastEthernet0/17\n",
      " switchport mode access\n",
      " switchport access vlan 150\n",
      " spanning-tree portfast\n",
      " spanning-tree bpduguard enable\n",
      "\n",
      "\n",
      "interface FastEthernet0/1\n",
      " switchport trunk encapsulation dot1q\n",
      " switchport mode trunk\n",
      " switchport trunk allowed vlan add 10,20\n",
      "interface FastEthernet0/2\n",
      " switchport trunk encapsulation dot1q\n",
      " switchport mode trunk\n",
      " switchport trunk allowed vlan only 11,30\n",
      "interface FastEthernet0/4\n",
      " switchport trunk encapsulation dot1q\n",
      " switchport mode trunk\n",
      " switchport trunk allowed vlan del 17\n"
     ]
    }
   ],
   "source": [
    "access_template = [\n",
    "    'switchport mode access', 'switchport access vlan',\n",
    "    'spanning-tree portfast', 'spanning-tree bpduguard enable'\n",
    "]\n",
    "\n",
    "trunk_template = [\n",
    "    'switchport trunk encapsulation dot1q', 'switchport mode trunk',\n",
    "    'switchport trunk allowed vlan'\n",
    "]\n",
    "\n",
    "access = {\n",
    "    '0/12': '10',\n",
    "    '0/14': '11',\n",
    "    '0/16': '17',\n",
    "    '0/17': '150'\n",
    "}\n",
    "trunk = {\n",
    "        '0/1': ['add', '10', '20'],\n",
    "        '0/2': ['only', '11', '30'],\n",
    "        '0/4': ['del', '17']\n",
    "    }\n",
    "\n",
    "for intf, vlan in access.items():\n",
    "    print('interface FastEthernet' + intf)\n",
    "    for command in access_template:\n",
    "        if command.endswith('access vlan'):\n",
    "            print(' {} {}'.format(command, vlan))\n",
    "        else:\n",
    "            print(' {}'.format(command))\n",
    "            \n",
    "print('\\n')\n",
    "\n",
    "for intf, vlan in trunk.items():\n",
    "    print('interface FastEthernet' + intf)\n",
    "    for command in trunk_template:\n",
    "        if command.endswith('allowed vlan'):\n",
    "            print(' {} {} {}'.format(command, vlan.pop(0), ','.join(vlan)))\n",
    "        else:\n",
    "            print(' {}'.format(command))"
   ]
  },
  {
   "cell_type": "markdown",
   "metadata": {},
   "source": [
    "## Задание 7.1\n",
    "\n",
    "Аналогично заданию 4.6 обработать строки из файла ospf.txt и вывести информацию по каждой в таком виде:\n",
    "```\n",
    "Protocol:              OSPF\n",
    "Prefix:                10.0.24.0/24\n",
    "AD/Metric:             110/41\n",
    "Next-Hop:              10.0.13.3\n",
    "Last update:           3d18h\n",
    "Outbound Interface:    FastEthernet0/0\n",
    "```\n"
   ]
  },
  {
   "cell_type": "code",
   "execution_count": 31,
   "metadata": {},
   "outputs": [
    {
     "name": "stdout",
     "output_type": "stream",
     "text": [
      "\n",
      "        Protocol:              O\n",
      "        Prefix:                10.0.24.0/24\n",
      "        AD/Metric:             110/41\n",
      "        Next-Hop:              10.0.13.3\n",
      "        Last update:           3d18h\n",
      "        Outbound Interface:    FastEthernet0/0\n",
      "        \n",
      "\n",
      "        Protocol:              O\n",
      "        Prefix:                10.0.28.0/24\n",
      "        AD/Metric:             110/31\n",
      "        Next-Hop:              10.0.13.3\n",
      "        Last update:           3d20h\n",
      "        Outbound Interface:    FastEthernet0/0\n",
      "        \n",
      "\n",
      "        Protocol:              O\n",
      "        Prefix:                10.0.37.0/24\n",
      "        AD/Metric:             110/11\n",
      "        Next-Hop:              10.0.13.3\n",
      "        Last update:           3d20h\n",
      "        Outbound Interface:    FastEthernet0/0\n",
      "        \n",
      "\n",
      "        Protocol:              O\n",
      "        Prefix:                10.0.41.0/24\n",
      "        AD/Metric:             110/51\n",
      "        Next-Hop:              10.0.13.3\n",
      "        Last update:           3d20h\n",
      "        Outbound Interface:    FastEthernet0/0\n",
      "        \n",
      "\n",
      "        Protocol:              O\n",
      "        Prefix:                10.0.78.0/24\n",
      "        AD/Metric:             110/21\n",
      "        Next-Hop:              10.0.13.3\n",
      "        Last update:           3d20h\n",
      "        Outbound Interface:    FastEthernet0/0\n",
      "        \n",
      "\n",
      "        Protocol:              O\n",
      "        Prefix:                10.0.79.0/24\n",
      "        AD/Metric:             110/20\n",
      "        Next-Hop:              10.0.19.9\n",
      "        Last update:           4d02h\n",
      "        Outbound Interface:    FastEthernet0/2\n",
      "        \n",
      "\n",
      "        Protocol:              O\n",
      "        Prefix:                10.0.81.0/24\n",
      "        AD/Metric:             110/41\n",
      "        Next-Hop:              10.0.13.3\n",
      "        Last update:           3d20h\n",
      "        Outbound Interface:    FastEthernet0/0\n",
      "        \n",
      "\n",
      "        Protocol:              O\n",
      "        Prefix:                10.0.91.0/24\n",
      "        AD/Metric:             110/60\n",
      "        Next-Hop:              10.0.19.9\n",
      "        Last update:           3d19h\n",
      "        Outbound Interface:    FastEthernet0/2\n",
      "        \n"
     ]
    }
   ],
   "source": [
    "with open ('ospf.txt', 'r') as f:\n",
    "    for line in f: \n",
    "        str = line.split()\n",
    "       \n",
    "        template = \"\"\"\n",
    "        Protocol:              {0}\n",
    "        Prefix:                {1}\n",
    "        AD/Metric:             {2}\n",
    "        Next-Hop:              {3}\n",
    "        Last update:           {4}\n",
    "        Outbound Interface:    {5}\n",
    "        \"\"\".format(str[0], str[1], str[2].strip('[]'), str[4].rstrip(','), str[5].rstrip(','), str[6])\n",
    "        \n",
    "        print(template)\n",
    "    "
   ]
  },
  {
   "cell_type": "markdown",
   "metadata": {},
   "source": [
    "## Задание 7.2\n",
    "\n",
    "Создать скрипт, который будет обрабатывать конфигурационный файл config_sw1.txt:\n",
    "    имя файла передается как аргумент скрипту.\n",
    "\n",
    "Скрипт должен возвращать на стандартный поток вывода команды из переданного конфигурационного файла, исключая строки, которые начинаются с !.\n",
    "\n",
    "Между строками не должно быть дополнительного символа перевода строки."
   ]
  },
  {
   "cell_type": "code",
   "execution_count": null,
   "metadata": {},
   "outputs": [],
   "source": [
    "# -*- coding: utf-8 -*-\n",
    "\n",
    "from sys import argv\n",
    "\n",
    "# python 7.2.py config_sw1.txt\n",
    "# fileName config_sw1.txt\n",
    "\n",
    "try:\n",
    "    fileName = argv[1]\n",
    "    f = open(fileName)\n",
    "    for line in f:\n",
    "        if not line.startswith('!'):\n",
    "            print(line.rstrip())\n",
    "except (IOError, IndexError):\n",
    "    print('No filename')"
   ]
  },
  {
   "cell_type": "markdown",
   "metadata": {},
   "source": [
    "## Задание 7.2a\n",
    "\n",
    "Сделать копию скрипта задания 7.2.\n",
    "\n",
    "Дополнить скрипт: Скрипт не должен выводить команды, в которых содержатся слова, которые указаны в списке ignore."
   ]
  },
  {
   "cell_type": "code",
   "execution_count": null,
   "metadata": {},
   "outputs": [],
   "source": [
    "# -*- coding: utf-8 -*-\n",
    "\n",
    "from sys import argv\n",
    "\n",
    "\n",
    "# python 7.2a.py config_sw1.txt\n",
    "# fileName config_sw1.txt\n",
    "\n",
    "ignores = ['duplex', 'alias', 'Current configuration']\n",
    "\n",
    "try:\n",
    "    fileName = argv[1]\n",
    "    f = open(fileName)\n",
    "    for line in f:\n",
    "        countIgnores = 0\n",
    "\n",
    "        if not line.startswith('!'):\n",
    "            for ignore in ignores:\n",
    "                if line.find(ignore) != -1:\n",
    "                    countIgnores += 1\n",
    "\n",
    "            if countIgnores == 0:\n",
    "                print(line.rstrip())\n",
    "\n",
    "except (IOError, IndexError):\n",
    "    print('Название файла не передали в аргумент!')"
   ]
  },
  {
   "cell_type": "markdown",
   "metadata": {},
   "source": [
    "## Задание 7.2b\n",
    "\n",
    "Дополнить скрипт из задания 7.2a: вместо вывода на стандартный поток вывода, скрипт должен записать полученные строки в файл config_sw1_cleared.txt\n",
    "\n",
    "При этом, должны быть отфильтрованы строки, которые содержатся в списке ignore. Строки, которые начинаются на ! отфильтровывать не нужно."
   ]
  },
  {
   "cell_type": "code",
   "execution_count": null,
   "metadata": {},
   "outputs": [],
   "source": [
    "# -*- coding: utf-8 -*-\n",
    "\n",
    "from sys import argv\n",
    "\n",
    "# python 7.2b.py config_sw1.txt\n",
    "# fileName config_sw1.txt\n",
    "\n",
    "ignores = ['duplex', 'alias', 'Current configuration']\n",
    "nameResultFile = 'config_sw1_cleared.txt'\n",
    "\n",
    "resultLines = []\n",
    "\n",
    "try:\n",
    "    fileName = argv[1]\n",
    "    f = open(fileName)\n",
    "    for line in f:\n",
    "        countIgnores = 0\n",
    "\n",
    "        if not line.startswith('!'):\n",
    "            for ignore in ignores:\n",
    "                if line.find(ignore) != -1:\n",
    "                    countIgnores += 1\n",
    "\n",
    "            if countIgnores == 0:\n",
    "                resultLines.append(line)\n",
    "\n",
    "    resultLines.remove(resultLines[0])\n",
    "\n",
    "    newF = open(nameResultFile, 'w')\n",
    "    newF.writelines(resultLines)\n",
    "    newF.close()\n",
    "\n",
    "except (IOError, IndexError):\n",
    "    print('Название файла не передали в аргумент!')"
   ]
  },
  {
   "cell_type": "markdown",
   "metadata": {},
   "source": [
    "## Задание 7.2c\n",
    "\n",
    "Переделать скрипт из задания 7.2b: передавать как аргументы скрипту:\n",
    "\n",
    "    имя исходного файла конфигурации\n",
    "    имя итогового файла конфигурации\n",
    "\n",
    "Внутри, скрипт должен отфильтровать те строки, в исходном файле конфигурации, в которых содержатся слова из списка ignore. И записать остальные строки в итоговый файл.\n",
    "\n",
    "Проверить работу скрипта на примере файла config_sw1.txt."
   ]
  },
  {
   "cell_type": "code",
   "execution_count": null,
   "metadata": {},
   "outputs": [],
   "source": [
    "# -*- coding: utf-8 -*-\n",
    "\n",
    "from sys import argv\n",
    "\n",
    "# старт скрипта - python 7.2c.py config_sw1.txt config_sw1_cleared.txt\n",
    "# fileName config_sw1.txt\n",
    "\n",
    "ignores = ['duplex', 'alias', 'Current configuration']\n",
    "\n",
    "resultLines = []\n",
    "\n",
    "try:\n",
    "    fileName = argv[1]\n",
    "    nameResultFile = argv[2]\n",
    "    f = open(fileName)\n",
    "    for line in f:\n",
    "        countIgnores = 0\n",
    "\n",
    "        if not line.startswith('!'):\n",
    "            for ignore in ignores:\n",
    "                if line.find(ignore) != -1:\n",
    "                    countIgnores += 1\n",
    "\n",
    "            if countIgnores == 0:\n",
    "                resultLines.append(line.rstrip() + '\\n')\n",
    "\n",
    "    resultLines.remove(resultLines[0])\n",
    "\n",
    "    newF = open(nameResultFile, 'w')\n",
    "    newF.writelines(resultLines)\n",
    "\n",
    "except (IOError, IndexError):\n",
    "    print('Название файла не передали в аргумент!')"
   ]
  },
  {
   "cell_type": "markdown",
   "metadata": {},
   "source": [
    "## Задание 7.3\n",
    "\n",
    "Скрипт должен обрабатывать записи в файле CAM_table.txt. Каждая строка, где есть MAC-адрес, должна быть обработана таким образом, чтобы на стандартный поток вывода была выведена таблица вида (показаны не все строки из файла):\n",
    "```\n",
    "100    01bb.c580.7000   Gi0/1\n",
    "200    0a4b.c380.7000   Gi0/2\n",
    "300    a2ab.c5a0.7000   Gi0/3\n",
    "100    0a1b.1c80.7000   Gi0/4\n",
    "500    02b1.3c80.7000   Gi0/5\n",
    "200    1a4b.c580.7000   Gi0/6\n",
    "300    0a1b.5c80.7000   Gi0/7\n",
    "```\n"
   ]
  },
  {
   "cell_type": "code",
   "execution_count": 32,
   "metadata": {},
   "outputs": [
    {
     "name": "stdout",
     "output_type": "stream",
     "text": [
      "100    01bb.c580.7000   Gi0/1\n",
      "200    0a4b.c380.7c00   Gi0/2\n",
      "300    a2ab.c5a0.700e   Gi0/3\n",
      "10     0a1b.1c80.7000   Gi0/4\n",
      "500    02b1.3c80.7b00   Gi0/5\n",
      "200    1a4b.c580.7000   Gi0/6\n",
      "300    0a1b.5c80.70f0   Gi0/7\n",
      "10     01ab.c5d0.70d0   Gi0/8\n",
      "1000   0a4b.c380.7d00   Gi0/9\n"
     ]
    }
   ],
   "source": [
    "resultStr = []\n",
    "\n",
    "with open ('CAM_table.txt', 'r') as f:\n",
    "    for line in f: \n",
    "        str = line.split()\n",
    "\n",
    "        if len(str) != 0:\n",
    "            if str[0].isdigit():\n",
    "                print(f'{str[0]:4}   {str[1]}   {str[3]}')\n",
    "                resultStr.append(str)"
   ]
  },
  {
   "cell_type": "markdown",
   "metadata": {},
   "source": [
    "## Задание 7.3a\n",
    "\n",
    "Сделать копию скрипта задания 7.3.\n",
    "\n",
    "Дополнить скрипт: Отсортировать вывод по номеру VLAN.\n",
    "\n",
    "В результате должен получиться такой вывод:\n",
    "```\n",
    "10       01ab.c5d0.70d0      Gi0/8\n",
    "10       0a1b.1c80.7000      Gi0/4\n",
    "100      01bb.c580.7000      Gi0/1\n",
    "200      0a4b.c380.7c00      Gi0/2\n",
    "200      1a4b.c580.7000      Gi0/6\n",
    "300      0a1b.5c80.70f0      Gi0/7\n",
    "300      a2ab.c5a0.700e      Gi0/3\n",
    "500      02b1.3c80.7b00      Gi0/5\n",
    "1000     0a4b.c380.7d00      Gi0/9\n",
    "```\n"
   ]
  },
  {
   "cell_type": "code",
   "execution_count": 33,
   "metadata": {},
   "outputs": [
    {
     "name": "stdout",
     "output_type": "stream",
     "text": [
      "  10   0a1b.1c80.7000   Gi0/4\n",
      "  10   01ab.c5d0.70d0   Gi0/8\n",
      " 100   01bb.c580.7000   Gi0/1\n",
      " 200   0a4b.c380.7c00   Gi0/2\n",
      " 200   1a4b.c580.7000   Gi0/6\n",
      " 300   a2ab.c5a0.700e   Gi0/3\n",
      " 300   0a1b.5c80.70f0   Gi0/7\n",
      " 500   02b1.3c80.7b00   Gi0/5\n",
      "1000   0a4b.c380.7d00   Gi0/9\n"
     ]
    }
   ],
   "source": [
    "resultStr = []\n",
    "sortedList = []\n",
    "\n",
    "with open ('CAM_table.txt', 'r') as f:\n",
    "    for line in f: \n",
    "        str = line.split()\n",
    "\n",
    "        if len(str) != 0:\n",
    "            if str[0].isdigit():\n",
    "                str[0] = int(str[0])\n",
    "                resultStr.append(str)  \n",
    "\n",
    "sortedLists = sorted(resultStr, key=lambda resultStr: resultStr[0])\n",
    "for sortedList in sortedLists:\n",
    "    print(f'{sortedList[0]:4}   {sortedList[1]}   {sortedList[3]}')"
   ]
  },
  {
   "cell_type": "markdown",
   "metadata": {},
   "source": [
    "## Задание 7.3b\n",
    "\n",
    "Сделать копию скрипта задания 7.3a.\n",
    "\n",
    "Дополнить скрипт:\n",
    "\n",
    "    Запросить у пользователя ввод номера VLAN.\n",
    "    Выводить информацию только по указанному VLAN.\n"
   ]
  },
  {
   "cell_type": "code",
   "execution_count": 35,
   "metadata": {},
   "outputs": [
    {
     "name": "stdout",
     "output_type": "stream",
     "text": [
      "Введите Vlan: 999\n",
      "VLAN с номером: 999 не существует\n"
     ]
    }
   ],
   "source": [
    "inputVlan = input('Введите Vlan: ')\n",
    "\n",
    "countVlans = 0\n",
    "\n",
    "with open ('CAM_table.txt', 'r') as f:\n",
    "    for line in f: \n",
    "        str = line.split()\n",
    "\n",
    "        if len(str) != 0:\n",
    "            if str[0].isdigit():\n",
    "                if str[0] == inputVlan:\n",
    "                    countVlans += 1\n",
    "                    print(f'{str[0]:4}   {str[1]}   {str[3]}')\n",
    "\n",
    "if countVlans == 0:\n",
    "    print(f'VLAN с номером: {inputVlan} не существует')"
   ]
  }
 ],
 "metadata": {
  "kernelspec": {
   "display_name": "Python 3",
   "language": "python",
   "name": "python3"
  },
  "language_info": {
   "codemirror_mode": {
    "name": "ipython",
    "version": 3
   },
   "file_extension": ".py",
   "mimetype": "text/x-python",
   "name": "python",
   "nbconvert_exporter": "python",
   "pygments_lexer": "ipython3",
   "version": "3.7.4"
  }
 },
 "nbformat": 4,
 "nbformat_minor": 2
}
